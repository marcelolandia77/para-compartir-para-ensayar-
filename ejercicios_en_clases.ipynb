{
  "nbformat": 4,
  "nbformat_minor": 0,
  "metadata": {
    "colab": {
      "provenance": [],
      "authorship_tag": "ABX9TyPBPIquwShXPiNBelcLtfb5",
      "include_colab_link": true
    },
    "kernelspec": {
      "name": "python3",
      "display_name": "Python 3"
    },
    "language_info": {
      "name": "python"
    }
  },
  "cells": [
    {
      "cell_type": "markdown",
      "metadata": {
        "id": "view-in-github",
        "colab_type": "text"
      },
      "source": [
        "<a href=\"https://colab.research.google.com/github/marcelolandia77/para-compartir-para-ensayar-/blob/main/ejercicios_en_clases.ipynb\" target=\"_parent\"><img src=\"https://colab.research.google.com/assets/colab-badge.svg\" alt=\"Open In Colab\"/></a>"
      ]
    },
    {
      "cell_type": "markdown",
      "source": [
        "\n",
        "8.\tEjercicio de Factorial:\n",
        "o\tEscribe un programa que calcule el factorial de un número dado. El factorial de un número n es el producto de todos los números enteros positivos menores o iguales a n.\n",
        "o\tEjemplo: Si la entrada es 5, la salida debe ser 120 (1 x 2 x 3 x 4 x 5).\n",
        "Adicionales\n",
        "9.\tEjercicio de Fibonacci:\n",
        "o\tEscribe un programa que imprima los primeros n números de la secuencia de Fibonacci. La secuencia de Fibonacci comienza con 0 y 1, y cada número siguiente es la suma de los dos anteriores.\n",
        "o\tEjemplo: Si la entrada es 7, la salida debe ser 0, 1, 1, 2, 3, 5, 8.\n",
        "10.\tEjercicio de Palíndromo:\n",
        "o\tEscribe un programa que determine si una cadena de texto es un palíndromo. Un palíndromo es una palabra que se lee igual de adelante hacia atrás y viceversa.\n",
        "o\tEjemplo: Si la entrada es radar, la salida debe ser \"La palabra es un palíndromo\"."
      ],
      "metadata": {
        "id": "r00L51TkxHjc"
      }
    },
    {
      "cell_type": "code",
      "source": [
        "##Variables y Tipos de Datos\n",
        "##1 Ejercicio de Conversión de Temperatura:Escribe un programa que convierta una\n",
        "##temperatura dada en grados Celsius a grados Fahrenheit y Kelvin. La fórmula para convertir de Celsius a Fahrenheit es F=95C+32F = \\frac{9}{5}C + 32F=59C+32 y de\n",
        "##Celsius a Kelvin es K=C+273.15K = C + 273.15K=C+273.15.Ejemplo: Si la entrada es 25 (grados Celsius), la salida debe ser 77 grados Fahrenheit y 298.15 Kelvin.\n",
        "## se asignan las variables esto no es necesario\n",
        "C= str(3)\n",
        "F= float(3)"
      ],
      "metadata": {
        "id": "rYHxDb1KxJ-0"
      },
      "execution_count": null,
      "outputs": []
    },
    {
      "cell_type": "code",
      "source": [
        "C= int(input (\"dame un valor en grado celsius\"))"
      ],
      "metadata": {
        "colab": {
          "base_uri": "https://localhost:8080/"
        },
        "id": "6I0_37hC0OSC",
        "outputId": "4090f4b7-1fba-47df-a5fd-8eed2773b74d"
      },
      "execution_count": null,
      "outputs": [
        {
          "name": "stdout",
          "output_type": "stream",
          "text": [
            "dame un valor en grado celsius25\n"
          ]
        }
      ]
    },
    {
      "cell_type": "code",
      "source": [
        "F=C*(9/5)+32\n",
        "print(F)"
      ],
      "metadata": {
        "colab": {
          "base_uri": "https://localhost:8080/"
        },
        "id": "qYgp_GGE0kyd",
        "outputId": "1de7cfdf-a71d-4ad4-e35f-ab58ac3d70ac"
      },
      "execution_count": null,
      "outputs": [
        {
          "output_type": "stream",
          "name": "stdout",
          "text": [
            "77.0\n"
          ]
        }
      ]
    },
    {
      "cell_type": "code",
      "source": [
        "F= int(input (\"dame un valor en grado farenheint\"))"
      ],
      "metadata": {
        "colab": {
          "base_uri": "https://localhost:8080/"
        },
        "id": "0iX3kCnL1dj4",
        "outputId": "7a4c92d4-014f-4caa-8d89-e9b386e8b2fb"
      },
      "execution_count": null,
      "outputs": [
        {
          "name": "stdout",
          "output_type": "stream",
          "text": [
            "dame un valor en grado farenheint77\n"
          ]
        }
      ]
    },
    {
      "cell_type": "code",
      "source": [
        "F=C+273,15\n",
        "print(F)"
      ],
      "metadata": {
        "colab": {
          "base_uri": "https://localhost:8080/"
        },
        "id": "z5q8w2VK1sUq",
        "outputId": "acfd9939-f30c-4006-ec76-fd4e0a7ce175"
      },
      "execution_count": null,
      "outputs": [
        {
          "output_type": "stream",
          "name": "stdout",
          "text": [
            "(298, 15)\n"
          ]
        }
      ]
    },
    {
      "cell_type": "code",
      "source": [
        "## ejercicio 2\n",
        "## se asignan las variables no es necesario hacer este paso antes de pedir input  2.\tEjercicio de Cálculo de Área y Perímetro de un Rectángulo:\n",
        "# Escribe un programa que calcule el área y el perímetro de un rectángulo dados su ancho y alto.\n",
        "# Ejemplo: Si la entrada es ancho = 5 y alto = 10, la salida debe ser área = 50 y perímetro = 30.\n",
        "A=3\n",
        "B=3"
      ],
      "metadata": {
        "id": "RmgtGz5H267k"
      },
      "execution_count": null,
      "outputs": []
    },
    {
      "cell_type": "code",
      "source": [
        "A= int(input (\"dame el largo del rectangulo\"))"
      ],
      "metadata": {
        "colab": {
          "base_uri": "https://localhost:8080/"
        },
        "id": "gfTi36Uk3DF9",
        "outputId": "49703c58-05fa-47f2-a4df-0e5e4966bbf4"
      },
      "execution_count": null,
      "outputs": [
        {
          "name": "stdout",
          "output_type": "stream",
          "text": [
            "dame el largo del rectangulo5\n"
          ]
        }
      ]
    },
    {
      "cell_type": "code",
      "source": [
        "B= int(input (\"dame el ancho del rectangulo\"))"
      ],
      "metadata": {
        "colab": {
          "base_uri": "https://localhost:8080/"
        },
        "id": "SKqSHh1V3Q_u",
        "outputId": "95218ec2-a468-4a54-d7f9-569f7b5a5bb8"
      },
      "execution_count": null,
      "outputs": [
        {
          "name": "stdout",
          "output_type": "stream",
          "text": [
            "dame el ancho del rectangulo10\n"
          ]
        }
      ]
    },
    {
      "cell_type": "code",
      "source": [
        "A=A*B\n",
        "print(A)"
      ],
      "metadata": {
        "colab": {
          "base_uri": "https://localhost:8080/"
        },
        "id": "rSlFcFnN3h5H",
        "outputId": "92257375-6092-463b-a3fe-0701d0b5d373"
      },
      "execution_count": null,
      "outputs": [
        {
          "output_type": "stream",
          "name": "stdout",
          "text": [
            "50\n"
          ]
        }
      ]
    },
    {
      "cell_type": "code",
      "source": [
        "P=2*A+2*B\n",
        "print(P)"
      ],
      "metadata": {
        "colab": {
          "base_uri": "https://localhost:8080/"
        },
        "id": "rgL2Zl_v4HCY",
        "outputId": "da3389c9-0459-4690-d0b8-5dc1e2f7fa1d"
      },
      "execution_count": null,
      "outputs": [
        {
          "output_type": "stream",
          "name": "stdout",
          "text": [
            "120\n"
          ]
        }
      ]
    },
    {
      "cell_type": "code",
      "source": [
        "#ejercicio 3 Estructuras de Control Ejercicio de Números Pares e Impares:\n",
        "##Escribe un programa que determine si un número dado es par o impar. o Ejemplo: Si la entrada es 7, la salida debe ser \"El número es impar\".\n",
        "A= int(input (\"ingrese rango maximo de numeros pares \"))"
      ],
      "metadata": {
        "colab": {
          "base_uri": "https://localhost:8080/"
        },
        "id": "TQ6tW6PJ5SKD",
        "outputId": "a2195c3e-af3c-4196-d385-645f36c500bb"
      },
      "execution_count": null,
      "outputs": [
        {
          "name": "stdout",
          "output_type": "stream",
          "text": [
            "ingrese rango maximo de numeros pares 7\n"
          ]
        }
      ]
    },
    {
      "cell_type": "code",
      "source": [
        "## la A corresponde a la A que se le pidio al usuario y el for corresponde a los numeros que se van a iterar y validar\n",
        "for a in range(A):\n",
        "  if a % 2 == 0:\n",
        "   print(f\"{a} numero par\")"
      ],
      "metadata": {
        "colab": {
          "base_uri": "https://localhost:8080/"
        },
        "id": "EpTlwYuP7Lyq",
        "outputId": "74ff22a5-f99d-4002-d646-61bee1254dbd"
      },
      "execution_count": null,
      "outputs": [
        {
          "output_type": "stream",
          "name": "stdout",
          "text": [
            "0 numero par\n",
            "2 numero par\n",
            "4 numero par\n",
            "6 numero par\n"
          ]
        }
      ]
    },
    {
      "cell_type": "code",
      "source": [
        "#ejercicio 4 Ejercicio de Clasificación de Edad: Escribe un programa que clasifique a una persona en \"niño\",\n",
        "## adolescente\", \"adulto\" o \"adulto mayor\" basándose en su edad.Ejemplo: Si la entrada es 20, la salida debe ser \"adulto\".\n",
        "edad= int(input (\"ingrese la edad de una persona\"))"
      ],
      "metadata": {
        "colab": {
          "base_uri": "https://localhost:8080/"
        },
        "id": "sQaJQjw485Be",
        "outputId": "2ce6fa45-e88f-4213-9376-f22023abeaf0"
      },
      "execution_count": null,
      "outputs": [
        {
          "name": "stdout",
          "output_type": "stream",
          "text": [
            "ingrese la edad de una persona20\n"
          ]
        }
      ]
    },
    {
      "cell_type": "code",
      "source": [
        "\n",
        "if edad <=20:\n",
        "    print (\"persona adulta\")\n",
        "else:\n",
        "    print (\"persona niño\")\n"
      ],
      "metadata": {
        "colab": {
          "base_uri": "https://localhost:8080/"
        },
        "id": "QCCW91ZS9PYH",
        "outputId": "4c7767f7-f49a-45ce-9d83-acd4ae57cf1f"
      },
      "execution_count": null,
      "outputs": [
        {
          "output_type": "stream",
          "name": "stdout",
          "text": [
            "persona adulta\n"
          ]
        }
      ]
    },
    {
      "cell_type": "code",
      "source": [
        "##Iteraciones 5.Ejercicio de Suma de Números Naturales:Escribe un programa\n",
        "##que calcule la suma de todos los números naturales hasta un número dado n. Ejemplo: Si la entrada es 10, la salida debe ser 55 (la suma de 1 + 2 + ... + 10)."
      ],
      "metadata": {
        "id": "f0anD1LuEtNG"
      },
      "execution_count": null,
      "outputs": []
    },
    {
      "cell_type": "code",
      "source": [
        "a= int(input(\"dame un numero\"))\n"
      ],
      "metadata": {
        "colab": {
          "base_uri": "https://localhost:8080/"
        },
        "id": "vleLHniNJZS_",
        "outputId": "09c79f1d-b848-43a5-9baa-1c00fc375b24"
      },
      "execution_count": null,
      "outputs": [
        {
          "name": "stdout",
          "output_type": "stream",
          "text": [
            "dame un numero10\n"
          ]
        }
      ]
    },
    {
      "cell_type": "code",
      "source": [
        "suma=0\n",
        "for i in  range (a+1):\n",
        " suma=suma+i\n",
        "\n",
        " print(f\" el resultado de la suma de 1+2+,+10 es {suma}\")\n"
      ],
      "metadata": {
        "colab": {
          "base_uri": "https://localhost:8080/"
        },
        "id": "GMve6MZ2PmWX",
        "outputId": "9695a3a6-bd7c-4eca-c79d-7dd4bc9fe5e4"
      },
      "execution_count": null,
      "outputs": [
        {
          "output_type": "stream",
          "name": "stdout",
          "text": [
            " el resultado de la suma de 1+2+,+10 es 0\n",
            " el resultado de la suma de 1+2+,+10 es 1\n",
            " el resultado de la suma de 1+2+,+10 es 3\n",
            " el resultado de la suma de 1+2+,+10 es 6\n",
            " el resultado de la suma de 1+2+,+10 es 10\n",
            " el resultado de la suma de 1+2+,+10 es 15\n",
            " el resultado de la suma de 1+2+,+10 es 21\n",
            " el resultado de la suma de 1+2+,+10 es 28\n",
            " el resultado de la suma de 1+2+,+10 es 36\n",
            " el resultado de la suma de 1+2+,+10 es 45\n",
            " el resultado de la suma de 1+2+,+10 es 55\n"
          ]
        }
      ]
    },
    {
      "cell_type": "code",
      "source": [
        " range(a+1+15)"
      ],
      "metadata": {
        "colab": {
          "base_uri": "https://localhost:8080/"
        },
        "id": "sCsuiDCERnqe",
        "outputId": "6d692198-0f4e-4f14-8bd0-87cdbbff0af2"
      },
      "execution_count": null,
      "outputs": [
        {
          "output_type": "execute_result",
          "data": {
            "text/plain": [
              "range(0, 26)"
            ]
          },
          "metadata": {},
          "execution_count": 190
        }
      ]
    },
    {
      "cell_type": "code",
      "source": [
        "##Combinados\n",
        "##7.\tEjercicio de Números Primos:\n",
        "##Escribe un programa que determine si un número dado es primo o no. Un número primo es aquel que solo tiene dos divisores: 1 y él mismo.\n",
        "##Ejemplo: Si la entrada es 29, la salida debe ser \"El número es primo\"."
      ],
      "metadata": {
        "id": "VnLjMLnoUaCY"
      },
      "execution_count": null,
      "outputs": []
    },
    {
      "cell_type": "code",
      "source": [
        "a= int(input(\"dame un numero\"))"
      ],
      "metadata": {
        "colab": {
          "base_uri": "https://localhost:8080/"
        },
        "id": "_dW43FECVGp5",
        "outputId": "839bbf5b-3dd5-477e-a9ff-9a775d5ba6f0"
      },
      "execution_count": null,
      "outputs": [
        {
          "name": "stdout",
          "output_type": "stream",
          "text": [
            "dame un numero10\n"
          ]
        }
      ]
    }
  ]
}